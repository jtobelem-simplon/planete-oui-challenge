{
  "metadata": {
    "kernelspec": {
      "name": "python3",
      "display_name": "Python 3",
      "language": "python"
    },
    "creator": "jtobelem",
    "createdOn": 1633680046483,
    "tags": [],
    "customFields": {},
    "language_info": {
      "name": "python",
      "version": "3.7.11",
      "mimetype": "text/x-python",
      "codemirror_mode": {
        "name": "ipython",
        "version": 3
      },
      "pygments_lexer": "ipython3",
      "nbconvert_exporter": "python",
      "file_extension": ".py"
    },
    "modifiedBy": "jtobelem"
  },
  "nbformat": 4,
  "nbformat_minor": 1,
  "cells": [
    {
      "execution_count": 1,
      "cell_type": "code",
      "metadata": {},
      "source": [
        "%pylab inline"
      ],
      "outputs": [
        {
          "output_type": "stream",
          "text": "Populating the interactive namespace from numpy and matplotlib\n",
          "name": "stdout"
        }
      ]
    },
    {
      "execution_count": 2,
      "cell_type": "code",
      "metadata": {},
      "source": [
        "import dataiku\nfrom dataiku import pandasutils as pdu\nimport pandas as pd"
      ],
      "outputs": []
    },
    {
      "execution_count": 3,
      "cell_type": "code",
      "metadata": {},
      "source": [
        "# Example: load a DSS dataset as a Pandas dataframe\nmydataset \u003d dataiku.Dataset(\"ytrain_NpxebDC\")\ndf \u003d mydataset.get_dataframe()"
      ],
      "outputs": [
        {
          "output_type": "stream",
          "text": "/home/azureuser/dataiku-dss-9.0.1/python37.packages/IPython/core/interactiveshell.py:2822: DtypeWarning: Columns (1,3,5,11,20,49,52,54,55,56,64,70,71,94,95,101,102,114,129,131,132,133,138,139,152,157,163,174,180,184,193,196,201,207,208,219,220,228,241,245,250,256,258,264,265,269,270,271,272,273) have mixed types. Specify dtype option on import or set low_memory\u003dFalse.\n  if self.run_code(code, result):\n",
          "name": "stderr"
        }
      ]
    },
    {
      "execution_count": 4,
      "cell_type": "code",
      "metadata": {},
      "source": [
        "df.columns"
      ],
      "outputs": [
        {
          "output_type": "execute_result",
          "execution_count": 4,
          "data": {
            "text/plain": "Index([\u0027timestamp\u0027, \u0027S7-T1\u0027, \u0027S2-T1\u0027, \u0027S19-T1\u0027, \u0027S56-T3\u0027, \u0027S85-T3\u0027, \u0027S16-T3\u0027, \u0027S16-T1\u0027, \u0027S94-T3\u0027, \u0027S28-T1\u0027,\n       ...\n       \u0027S47-T2\u0027, \u0027S65-T2\u0027, \u0027S32-T2\u0027, \u0027S21-T2\u0027, \u0027S13-T2\u0027, \u0027S97-T2\u0027, \u0027S25-T1\u0027, \u0027S25-T2\u0027, \u0027S98-T2\u0027, \u0027S99-T2\u0027], dtype\u003d\u0027object\u0027, length\u003d274)"
          },
          "metadata": {}
        }
      ]
    },
    {
      "execution_count": 6,
      "cell_type": "code",
      "metadata": {},
      "source": [
        "list(df.columns[1:])"
      ],
      "outputs": [
        {
          "output_type": "execute_result",
          "execution_count": 6,
          "data": {
            "text/plain": "[\u0027S7-T1\u0027,\n \u0027S2-T1\u0027,\n \u0027S19-T1\u0027,\n \u0027S56-T3\u0027,\n \u0027S85-T3\u0027,\n \u0027S16-T3\u0027,\n \u0027S16-T1\u0027,\n \u0027S94-T3\u0027,\n \u0027S28-T1\u0027,\n \u0027S62-T3\u0027,\n \u0027S14-T3\u0027,\n \u0027S8-T1\u0027,\n \u0027S8-T3\u0027,\n \u0027S34-T3\u0027,\n \u0027S6-T2\u0027,\n \u0027S29-T3\u0027,\n \u0027S64-T1\u0027,\n \u0027S11-T1\u0027,\n \u0027S76-T3\u0027,\n \u0027S59-T1\u0027,\n \u0027S58-T1\u0027,\n \u0027S58-T3\u0027,\n \u0027S21-T3\u0027,\n \u0027S96-T3\u0027,\n \u0027S30-T1\u0027,\n \u0027S77-T1\u0027,\n \u0027S35-T3\u0027,\n \u0027S71-T3\u0027,\n \u0027S89-T1\u0027,\n \u0027S51-T3\u0027,\n \u0027S51-T1\u0027,\n \u0027S38-T3\u0027,\n \u0027S79-T1\u0027,\n \u0027S79-T3\u0027,\n \u0027S33-T3\u0027,\n \u0027S33-T1\u0027,\n \u0027S50-T3\u0027,\n \u0027S1-T3\u0027,\n \u0027S49-T1\u0027,\n \u0027S60-T3\u0027,\n \u0027S48-T2\u0027,\n \u0027S98-T3\u0027,\n \u0027S3-T3\u0027,\n \u0027S3-T1\u0027,\n \u0027S70-T3\u0027,\n \u0027S17-T1\u0027,\n \u0027S78-T1\u0027,\n \u0027S80-T3\u0027,\n \u0027S66-T3\u0027,\n \u0027S27-T3\u0027,\n \u0027S27-T1\u0027,\n \u0027S92-T3\u0027,\n \u0027S12-T2\u0027,\n \u0027S7-T3\u0027,\n \u0027S19-T3\u0027,\n \u0027S23-T1\u0027,\n \u0027S86-T1\u0027,\n \u0027S67-T3\u0027,\n \u0027S25-T3\u0027,\n \u0027S10-T3\u0027,\n \u0027S10-T1\u0027,\n \u0027S20-T3\u0027,\n \u0027S31-T1\u0027,\n \u0027S41-T3\u0027,\n \u0027S29-T1\u0027,\n \u0027S32-T1\u0027,\n \u0027S26-T1\u0027,\n \u0027S53-T1\u0027,\n \u0027S4-T3\u0027,\n \u0027S82-T1\u0027,\n \u0027S82-T3\u0027,\n \u0027S91-T1\u0027,\n \u0027S91-T3\u0027,\n \u0027S30-T3\u0027,\n \u0027S24-T1\u0027,\n \u0027S99-T1\u0027,\n \u0027S99-T3\u0027,\n \u0027S88-T1\u0027,\n \u0027S74-T3\u0027,\n \u0027S39-T3\u0027,\n \u0027S45-T2\u0027,\n \u0027S38-T1\u0027,\n \u0027S42-T2\u0027,\n \u0027S42-T1\u0027,\n \u0027S1-T2\u0027,\n \u0027S84-T1\u0027,\n \u0027S46-T1\u0027,\n \u0027S68-T1\u0027,\n \u0027S68-T3\u0027,\n \u0027S60-T1\u0027,\n \u0027S48-T3\u0027,\n \u0027S13-T3\u0027,\n \u0027S80-T2\u0027,\n \u0027S66-T1\u0027,\n \u0027S92-T1\u0027,\n \u0027S5-T3\u0027,\n \u0027S12-T3\u0027,\n \u0027S12-T1\u0027,\n \u0027S69-T3\u0027,\n \u0027S2-T3\u0027,\n \u0027S22-T1\u0027,\n \u0027S65-T1\u0027,\n \u0027S67-T1\u0027,\n \u0027S6-T3\u0027,\n \u0027S31-T3\u0027,\n \u0027S9-T1\u0027,\n \u0027S64-T2\u0027,\n \u0027S76-T1\u0027,\n \u0027S26-T3\u0027,\n \u0027S72-T1\u0027,\n \u0027S37-T1\u0027,\n \u0027S37-T3\u0027,\n \u0027S15-T1\u0027,\n \u0027S82-T2\u0027,\n \u0027S35-T1\u0027,\n \u0027S88-T2\u0027,\n \u0027S18-T3\u0027,\n \u0027S18-T1\u0027,\n \u0027S18-T2\u0027,\n \u0027S39-T1\u0027,\n \u0027S45-T3\u0027,\n \u0027S95-T1\u0027,\n \u0027S49-T3\u0027,\n \u0027S49-T2\u0027,\n \u0027S46-T3\u0027,\n \u0027S98-T1\u0027,\n \u0027S13-T1\u0027,\n \u0027S83-T1\u0027,\n \u0027S66-T2\u0027,\n \u0027S63-T3\u0027,\n \u0027S22-T3\u0027,\n \u0027S22-T2\u0027,\n \u0027S47-T1\u0027,\n \u0027S94-T1\u0027,\n \u0027S64-T3\u0027,\n \u0027S11-T3\u0027,\n \u0027S76-T2\u0027,\n \u0027S59-T3\u0027,\n \u0027S57-T1\u0027,\n \u0027S24-T3\u0027,\n \u0027S45-T1\u0027,\n \u0027S38-T2\u0027,\n \u0027S50-T1\u0027,\n \u0027S84-T3\u0027,\n \u0027S3-T2\u0027,\n \u0027S70-T1\u0027,\n \u0027S97-T1\u0027,\n \u0027S93-T3\u0027,\n \u0027S63-T1\u0027,\n \u0027S69-T1\u0027,\n \u0027S69-T2\u0027,\n \u0027S23-T3\u0027,\n \u0027S52-T2\u0027,\n \u0027S52-T1\u0027,\n \u0027S86-T2\u0027,\n \u0027S34-T1\u0027,\n \u0027S87-T3\u0027,\n \u0027S75-T1\u0027,\n \u0027S75-T3\u0027,\n \u0027S53-T2\u0027,\n \u0027S53-T3\u0027,\n \u0027S4-T1\u0027,\n \u0027S59-T2\u0027,\n \u0027S72-T3\u0027,\n \u0027S58-T2\u0027,\n \u0027S15-T2\u0027,\n \u0027S89-T2\u0027,\n \u0027S89-T3\u0027,\n \u0027S95-T3\u0027,\n \u0027S1-T1\u0027,\n \u0027S81-T1\u0027,\n \u0027S93-T2\u0027,\n \u0027S56-T1\u0027,\n \u0027S47-T3\u0027,\n \u0027S67-T2\u0027,\n \u0027S28-T3\u0027,\n \u0027S34-T2\u0027,\n \u0027S6-T1\u0027,\n \u0027S9-T3\u0027,\n \u0027S87-T1\u0027,\n \u0027S32-T3\u0027,\n \u0027S26-T2\u0027,\n \u0027S15-T3\u0027,\n \u0027S57-T3\u0027,\n \u0027S77-T3\u0027,\n \u0027S36-T3\u0027,\n \u0027S42-T3\u0027,\n \u0027S46-T2\u0027,\n \u0027S97-T3\u0027,\n \u0027S17-T3\u0027,\n \u0027S93-T1\u0027,\n \u0027S83-T3\u0027,\n \u0027S85-T2\u0027,\n \u0027S62-T1\u0027,\n \u0027S20-T1\u0027,\n \u0027S41-T1\u0027,\n \u0027S74-T1\u0027,\n \u0027S70-T2\u0027,\n \u0027S5-T1\u0027,\n \u0027S52-T3\u0027,\n \u0027S65-T3\u0027,\n \u0027S96-T1\u0027,\n \u0027S71-T1\u0027,\n \u0027S84-T2\u0027,\n \u0027S17-T2\u0027,\n \u0027S86-T3\u0027,\n \u0027S14-T2\u0027,\n \u0027S14-T1\u0027,\n \u0027S8-T2\u0027,\n \u0027S29-T2\u0027,\n \u0027S72-T2\u0027,\n \u0027S91-T2\u0027,\n \u0027S74-T2\u0027,\n \u0027S33-T2\u0027,\n \u0027S81-T3\u0027,\n \u0027S48-T1\u0027,\n \u0027S78-T3\u0027,\n \u0027S80-T1\u0027,\n \u0027S85-T1\u0027,\n \u0027S57-T2\u0027,\n \u0027S77-T2\u0027,\n \u0027S88-T3\u0027,\n \u0027S36-T1\u0027,\n \u0027S50-T2\u0027,\n \u0027S81-T2\u0027,\n \u0027S78-T2\u0027,\n \u0027S63-T2\u0027,\n \u0027S87-T2\u0027,\n \u0027S30-T2\u0027,\n \u0027S24-T2\u0027,\n \u0027S83-T2\u0027,\n \u0027S10-T2\u0027,\n \u0027S4-T2\u0027,\n \u0027S71-T2\u0027,\n \u0027S36-T2\u0027,\n \u0027S79-T2\u0027,\n \u0027S16-T2\u0027,\n \u0027S94-T2\u0027,\n \u0027S9-T2\u0027,\n \u0027S21-T1\u0027,\n \u0027S92-T2\u0027,\n \u0027S11-T2\u0027,\n \u0027S51-T2\u0027,\n \u0027S60-T2\u0027,\n \u0027S19-T2\u0027,\n \u0027S62-T2\u0027,\n \u0027S31-T2\u0027,\n \u0027S96-T2\u0027,\n \u0027S27-T2\u0027,\n \u0027S23-T2\u0027,\n \u0027S28-T2\u0027,\n \u0027S37-T2\u0027,\n \u0027S39-T2\u0027,\n \u0027S68-T2\u0027,\n \u0027S56-T2\u0027,\n \u0027S41-T2\u0027,\n \u0027S35-T2\u0027,\n \u0027S7-T2\u0027,\n \u0027S75-T2\u0027,\n \u0027S20-T2\u0027,\n \u0027S95-T2\u0027,\n \u0027S5-T2\u0027,\n \u0027S2-T2\u0027,\n \u0027S47-T2\u0027,\n \u0027S65-T2\u0027,\n \u0027S32-T2\u0027,\n \u0027S21-T2\u0027,\n \u0027S13-T2\u0027,\n \u0027S97-T2\u0027,\n \u0027S25-T1\u0027,\n \u0027S25-T2\u0027,\n \u0027S98-T2\u0027,\n \u0027S99-T2\u0027]"
          },
          "metadata": {}
        }
      ]
    },
    {
      "execution_count": 0,
      "cell_type": "code",
      "metadata": {},
      "source": [
        ""
      ],
      "outputs": []
    }
  ]
}